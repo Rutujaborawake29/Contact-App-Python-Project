{
  "cells": [
    {
      "cell_type": "markdown",
      "metadata": {
        "id": "view-in-github",
        "colab_type": "text"
      },
      "source": [
        "<a href=\"https://colab.research.google.com/github/Rutujaborawake29/Contact-App-Python-Project/blob/main/contact_app_(2).ipynb\" target=\"_parent\"><img src=\"https://colab.research.google.com/assets/colab-badge.svg\" alt=\"Open In Colab\"/></a>"
      ]
    },
    {
      "cell_type": "markdown",
      "metadata": {
        "id": "AhW9iqZVsk5J"
      },
      "source": [
        "# Contact app\n",
        "\n",
        "You have learnt a lot of new things; data structures, string, regex & files. Lets use all our newly acquired knowledge to build a **contact app**, just like the ones in our smartphone.\n",
        "\n",
        "We will not be building a fancy UI, instead we will focus on understanding the programming logic.\n",
        "\n",
        "Lets get started!\n",
        "\n",
        "Think of all the features that your contact app has . . . !\n",
        "- It can show you all the contact names\n",
        "- You can search for contacts (using name)\n",
        "- You can see all the information associated with the contact\n",
        "- You can delete and update contacts\n",
        "\n",
        "Can you think of anything more ? Our contact app should have at least these features.\n",
        "- The app should show us all the contact names\n",
        "- It should allow us to select a contact and view all the information associated with the contact\n",
        "- It should allow us to update contact info & delete contact\n",
        "- Finally, it should show us all the contact names\n",
        "\n",
        "For every contact, we will store the `name`, `number` & `email`."
      ]
    },
    {
      "cell_type": "markdown",
      "metadata": {
        "id": "KBSsDl0csk5O"
      },
      "source": [
        "### Data Structure\n",
        "The very first thing that we need to decide is \"What data structure to use?\"\n",
        "\n",
        "To store all the contacts, we can use a list of dictionaries; were each dictionary stores the `name`, `number` & `email`  of the contact.\n",
        "\n",
        "Create a list of dictionaries called `contacts` with 3 dummy contacts.  "
      ]
    },
    {
      "cell_type": "code",
      "execution_count": null,
      "metadata": {
        "colab": {
          "base_uri": "https://localhost:8080/"
        },
        "id": "2yLRrHa3sk5O",
        "outputId": "ff8ea32e-e749-4fc1-9b47-438847b5a383"
      },
      "outputs": [
        {
          "output_type": "execute_result",
          "data": {
            "text/plain": [
              "[{'name': 'aisha', 'number': 6814967831, 'email': 'aisha@gmail.com'},\n",
              " {'name': 'payal', 'number': 8691236971, 'email': 'payal@gmail.com'},\n",
              " {'name': 'krisha', 'number': 96328432897, 'email': 'krisha@gmail.com'}]"
            ]
          },
          "metadata": {},
          "execution_count": 2
        }
      ],
      "source": [
        "## your code here\n",
        "contacts=[{'name':'aisha','number':6814967831,'email':'aisha@gmail.com'},{'name':'payal','number':8691236971,'email':'payal@gmail.com'},{'name':'krisha','number':96328432897,'email':'krisha@gmail.com'}]\n",
        "contacts"
      ]
    },
    {
      "cell_type": "markdown",
      "metadata": {
        "id": "wyUAblV8sk5Q"
      },
      "source": [
        "### List all contact names\n",
        "Write `show_contacts` function that takes the `contacts` list and prints all the contact names. These names will help us to select the contact later."
      ]
    },
    {
      "cell_type": "code",
      "execution_count": null,
      "metadata": {
        "colab": {
          "base_uri": "https://localhost:8080/"
        },
        "id": "wyA0BNbask5Q",
        "outputId": "bd2e377a-80ef-4449-9025-4ea0ec624037"
      },
      "outputs": [
        {
          "output_type": "stream",
          "name": "stdout",
          "text": [
            "aisha\n",
            "payal\n",
            "krisha\n"
          ]
        }
      ],
      "source": [
        "def show_contacts(contacts):\n",
        "  for name in contacts:\n",
        "    print(name['name'])\n",
        "\n",
        "show_contacts(contacts)"
      ]
    },
    {
      "cell_type": "code",
      "execution_count": null,
      "metadata": {
        "colab": {
          "base_uri": "https://localhost:8080/"
        },
        "id": "XI6gZkStsk5R",
        "outputId": "b8944108-9f27-4bec-be7d-d1c12bcd5dae"
      },
      "outputs": [
        {
          "output_type": "stream",
          "name": "stdout",
          "text": [
            "aisha\n",
            "payal\n",
            "krisha\n"
          ]
        }
      ],
      "source": [
        "show_contacts(contacts)"
      ]
    },
    {
      "cell_type": "markdown",
      "metadata": {
        "id": "4NbA7S12sk5R"
      },
      "source": [
        "### Add a new Contact\n",
        "\n",
        "Write `add_contact` function that takes user input and *adds new contact* dictionary to the existing list of `contacts`."
      ]
    },
    {
      "cell_type": "code",
      "execution_count": null,
      "metadata": {
        "id": "SzJw8LFKsk5R"
      },
      "outputs": [],
      "source": [
        "def add_contact(contacts):\n",
        "    name=input('enter name')\n",
        "    number=int(input('enter number'))\n",
        "    email=input('enter email id')\n",
        "    new_contact={'name':name,'number':number,'email':email}\n",
        "    print(new_contact)\n",
        "    contacts.append(new_contact)\n",
        "    print(contacts)\n",
        "add_contact(contacts)"
      ]
    },
    {
      "cell_type": "code",
      "source": [
        "print(contacts)"
      ],
      "metadata": {
        "id": "m_-VRh3D0x2g"
      },
      "execution_count": null,
      "outputs": []
    },
    {
      "cell_type": "markdown",
      "metadata": {
        "id": "Bg51Lp4Qsk5S"
      },
      "source": [
        "### Delete Contact\n",
        "\n",
        "Write `delete_contact` function to delete an existing contact by providing `name` of the contact which we want to delete."
      ]
    },
    {
      "cell_type": "code",
      "source": [
        "def delete_contact(name_del ):\n",
        "  for i in range(len(contacts)):\n",
        "    # print(contacts[i]['name']== 'krisha')\n",
        "    if contacts[i]['name'] == name_del:\n",
        "      contacts.remove(contacts[i])\n",
        "\n",
        "    # return contact\n",
        "\n",
        "delete_contact('krisha')"
      ],
      "metadata": {
        "id": "MXf7vPgj1Lsc"
      },
      "execution_count": null,
      "outputs": []
    },
    {
      "cell_type": "code",
      "source": [
        "print(contacts)"
      ],
      "metadata": {
        "id": "w366rGU-1hRi"
      },
      "execution_count": null,
      "outputs": []
    },
    {
      "cell_type": "code",
      "source": [
        "print(contacts)"
      ],
      "metadata": {
        "id": "RM8gWqQn14a2"
      },
      "execution_count": null,
      "outputs": []
    },
    {
      "cell_type": "markdown",
      "metadata": {
        "id": "oM6j49LWsk5T"
      },
      "source": [
        "### Update Contact details\n",
        "\n",
        "Let's write `update_contact` function which will *update contact details* such as `name`, `email` & `number`.\n",
        "The functions should take `contacts` and `name` as arguments. It should also print the newly added contact."
      ]
    },
    {
      "cell_type": "code",
      "execution_count": null,
      "metadata": {
        "id": "_1GRXzJ6sk5T"
      },
      "outputs": [],
      "source": [
        "def update_contact(contacts):\n",
        "  k={'name':'harshita','number':989881275,'email':'harshita@gmail.com'}\n",
        "  contacts[1]=k\n",
        "update_contact(contacts)"
      ]
    },
    {
      "cell_type": "code",
      "execution_count": null,
      "metadata": {
        "colab": {
          "base_uri": "https://localhost:8080/"
        },
        "id": "U-i668sYsk5U",
        "outputId": "56a1067f-f36b-4490-e87c-f75eb4a8edf4"
      },
      "outputs": [
        {
          "output_type": "stream",
          "name": "stdout",
          "text": [
            "[{'name': 'aisha', 'number': 6814967831, 'email': 'aisha@gmail.com'}, {'name': 'harshita', 'number': 989881275, 'email': 'harshita@gmail.com'}, {'name': 'rutuja', 'number': 7796501384, 'email': 'rutujaborawake29@gmail.com'}]\n"
          ]
        }
      ],
      "source": [
        "print(contacts)"
      ]
    },
    {
      "cell_type": "markdown",
      "metadata": {
        "id": "p1ouQpMesk5U"
      },
      "source": [
        "### Open Contact\n",
        "`open_contact` function takes the `contacts` list and a `name` string as input. It prints the contact details if `name` matches some contact name in the `contacts` list, else prints `No match found!`.\n",
        "\n",
        "**Note:** The functions should be case insensitive."
      ]
    },
    {
      "cell_type": "code",
      "source": [
        "def open_contact():\n",
        "  from os import name\n",
        "  a=input('search name for contact ')\n",
        "  for n in contacts:\n",
        "    #print(n)\n",
        "    if n['name']== a:\n",
        "      print(n)\n",
        "      break\n",
        "    else:\n",
        "      print('No match found!')\n",
        "\n",
        "open_contact()"
      ],
      "metadata": {
        "colab": {
          "base_uri": "https://localhost:8080/"
        },
        "id": "4IH6sAvV-NLz",
        "outputId": "1a5c7f59-20f6-47f2-ba68-fac3f99da350"
      },
      "execution_count": null,
      "outputs": [
        {
          "output_type": "stream",
          "name": "stdout",
          "text": [
            "search name for contact aisha\n",
            "{'name': 'aisha', 'number': 6814967831, 'email': 'aisha@gmail.com'}\n"
          ]
        }
      ]
    },
    {
      "cell_type": "markdown",
      "metadata": {
        "id": "UhqqAfPSsk5W"
      },
      "source": [
        "We often see *update* & *delete* options after we open a particular contact. It would be great if we can also implement the same.\n",
        "\n",
        "After opening the contact, the program should wait for user input. The user can press `u` to update & `d` delete contact. Any other key press should be ignored\n",
        "\n",
        "Write the updated `open_contact` function below"
      ]
    },
    {
      "cell_type": "code",
      "source": [],
      "metadata": {
        "id": "4TeCnX8KGvzy"
      },
      "execution_count": null,
      "outputs": []
    },
    {
      "cell_type": "code",
      "execution_count": null,
      "metadata": {
        "colab": {
          "base_uri": "https://localhost:8080/"
        },
        "id": "ATdIowo8sk5X",
        "outputId": "c26e3063-aa5d-499d-a6af-15450919a5c7"
      },
      "outputs": [
        {
          "name": "stdout",
          "output_type": "stream",
          "text": [
            "enter u or d = d\n",
            "enter name to delete aisha\n"
          ]
        }
      ],
      "source": [
        "def open_contact():\n",
        "  user_input=input('enter u or d = ')\n",
        "  if user_input=='u':\n",
        "    return update_contact(contacts)\n",
        "  elif user_input=='d':\n",
        "    name_del=input('enter name to delete ')\n",
        "    return delete_contact(name_del)\n",
        "\n",
        "open_contact()"
      ]
    },
    {
      "cell_type": "markdown",
      "metadata": {
        "id": "7q8MI8POsk5Y"
      },
      "source": [
        "### Complete application (using all the above functions in use)\n",
        "\n",
        "We will use an infinite loop to encapsulate our application logic and break only when `q` is pressed. We will use `clear_output()` function from `IPython.display` to clear the output before printing anything new.\n",
        "\n",
        "Below is the pseudo-code to help you build the application logic."
      ]
    },
    {
      "cell_type": "code",
      "execution_count": null,
      "metadata": {
        "colab": {
          "base_uri": "https://localhost:8080/"
        },
        "id": "nr3TJkOjsk5Y",
        "outputId": "b20059eb-1b46-4eb6-eae4-c8459ad45727"
      },
      "outputs": [
        {
          "output_type": "stream",
          "name": "stdout",
          "text": [
            "harshita\n",
            "harshita\n",
            "rutuja\n",
            "himani\n",
            "Press 'a' - add contact, 'o' - open contact, 's' - search contact, 'q' - quita\n",
            "enter namevaishnavi\n",
            "enter number1234567892\n",
            "enter email idvaishnavi@gmail.com\n",
            "{'name': 'vaishnavi', 'number': 1234567892, 'email': 'vaishnavi@gmail.com'}\n",
            "[{'name': 'harshita', 'number': 989881275, 'email': 'harshita@gmail.com'}, {'name': 'harshita', 'number': 989881275, 'email': 'harshita@gmail.com'}, {'name': 'rutuja', 'number': 781289214, 'email': 'rutushali614@gmail.com'}, {'name': 'himani', 'number': 9090909032, 'email': 'himani @gmail.com'}, {'name': 'vaishnavi', 'number': 1234567892, 'email': 'vaishnavi@gmail.com'}]\n",
            "harshita\n",
            "harshita\n",
            "rutuja\n",
            "himani\n",
            "vaishnavi\n",
            "Press 'a' - add contact, 'o' - open contact, 's' - search contact, 'q' - quito\n",
            "search name for contact harshita\n",
            "{'name': 'harshita', 'number': 989881275, 'email': 'harshita@gmail.com'}\n",
            "harshita\n",
            "harshita\n",
            "rutuja\n",
            "himani\n",
            "vaishnavi\n",
            "Press 'a' - add contact, 'o' - open contact, 's' - search contact, 'q' - quitq\n",
            "END\n"
          ]
        }
      ],
      "source": [
        "from IPython.display import clear_output\n",
        "\n",
        "while True:\n",
        "    def show_contacts(contacts):\n",
        "      for name in contacts:\n",
        "        print(name['name'])\n",
        "\n",
        "    show_contacts(contacts)\n",
        "    action = input(\"Press 'a' - add contact, 'o' - open contact, 's' - search contact, 'q' - quit\")\n",
        "    if action == 'a':\n",
        "        def add_contact(contacts):\n",
        "            name=input('enter name')\n",
        "            number=int(input('enter number'))\n",
        "            email=input('enter email id')\n",
        "            new_contact={'name':name,'number':number,'email':email}\n",
        "            print(new_contact)\n",
        "            contacts.append(new_contact)\n",
        "            print(contacts)\n",
        "        add_contact(contacts)\n",
        "\n",
        "    elif action == 'o':\n",
        "        #name = input(\"Enter name of the contact you want to open. \")\n",
        "        def open_contact():\n",
        "          from os import name\n",
        "          a=input('search name for contact ')\n",
        "          for n in contacts:\n",
        "            #print(n)\n",
        "            if n['name']== a:\n",
        "              print(n)\n",
        "              break\n",
        "            else:\n",
        "              print('No match found!')\n",
        "\n",
        "        open_contact()\n",
        "\n",
        "    elif action == 'q':\n",
        "        print('END')\n",
        "        break\n",
        "\n",
        "    else:\n",
        "        print('incorrect choice')"
      ]
    },
    {
      "cell_type": "markdown",
      "metadata": {
        "id": "B2wV4NVpsk5Y"
      },
      "source": [
        "## Using files\n",
        "\n",
        "One major problem with the above approach is \"persistent storage\". Every time you close this notebook, all the new contacts are lost. This happens because `contacts` is a python variable. Its lives inside python session. As soon as the session is killed/terminated, all the varibles are also deleted.\n",
        "\n",
        "To address this problem, we will have to use save the contacts in a disk. What better reason to use files? Instead of using *list of dictionary*, use file to save the contacts.\n",
        "\n",
        "Save every new contact in a new-line and use \" , \" to separate the contact fields. This is how the above contacts should look, when saved in a file.\n",
        "\n",
        "```text\n",
        "vivek, vivek@gmail.com, 9921668254\n",
        "ankur, ankur@gmail.com, 8806807004\n",
        "pranav, pranav@gmail.com, 987654321\n",
        "```\n",
        "\n",
        "You task is to make appropriate changes to the above code to use `contacts.txt` instead of using `contacts` list."
      ]
    },
    {
      "cell_type": "code",
      "source": [
        "with open('contacts.txt', 'w') as file:\n",
        "    content = file.write('vivek,9921668254,vivek@gmail.com\\nankur, 8806807004,ankur@gmail.com\\npranav,987654321,pranav@gmail.com')\n",
        "    # content = file.write('vivek',9921668254,'vivek@gmail.com','ankur',8806807004,'ankur@gmail.com'\\n'pranav',987654321 ,'pranav@gmail.com')\n",
        "    print(content)\n",
        "with open('contacts.txt', 'r') as file:\n",
        "    content = file.read()\n",
        "    print(content)\n"
      ],
      "metadata": {
        "colab": {
          "base_uri": "https://localhost:8080/"
        },
        "id": "ZMbJW8-rJYEJ",
        "outputId": "87d86dff-2b35-4d6b-ffce-84adda66848d"
      },
      "execution_count": null,
      "outputs": [
        {
          "output_type": "stream",
          "name": "stdout",
          "text": [
            "100\n",
            "vivek,9921668254,vivek@gmail.com\n",
            "ankur, 8806807004,ankur@gmail.com\n",
            "pranav,987654321,pranav@gmail.com\n"
          ]
        }
      ]
    },
    {
      "cell_type": "code",
      "source": [
        "print(type(content))"
      ],
      "metadata": {
        "colab": {
          "base_uri": "https://localhost:8080/"
        },
        "id": "8J8QcfwRPNU6",
        "outputId": "e436ec6c-672c-438a-933a-4dfe8fc70991"
      },
      "execution_count": null,
      "outputs": [
        {
          "output_type": "stream",
          "name": "stdout",
          "text": [
            "<class 'str'>\n"
          ]
        }
      ]
    },
    {
      "cell_type": "code",
      "source": [
        "name='rutuja'\n",
        "number='43256'\n",
        "email='rutuja@gmail.com'\n",
        "new_contact=name,number,email\n",
        "print(type(new_contact))"
      ],
      "metadata": {
        "colab": {
          "base_uri": "https://localhost:8080/"
        },
        "id": "8_ZvrDxGPTwQ",
        "outputId": "36c42e62-4ca4-48c1-b956-c4ca65dbf6e3"
      },
      "execution_count": null,
      "outputs": [
        {
          "output_type": "stream",
          "name": "stdout",
          "text": [
            "<class 'tuple'>\n"
          ]
        }
      ]
    },
    {
      "cell_type": "code",
      "source": [
        "with open('contacts.txt', 'r') as file:\n",
        "    content = file.read()\n",
        "    print(content)\n",
        "name='rutuja'\n",
        "number='43256'\n",
        "email='rutuja@gmail.com'\n",
        "new_contact=name,number,email\n",
        "print(new_contact)\n",
        "content=content+str(new_contact)\n",
        "print(content)\n"
      ],
      "metadata": {
        "colab": {
          "base_uri": "https://localhost:8080/"
        },
        "id": "PFwiDAtCLjOI",
        "outputId": "c0fdd157-2e2b-4f61-e725-dd3247bb5715"
      },
      "execution_count": null,
      "outputs": [
        {
          "output_type": "stream",
          "name": "stdout",
          "text": [
            "vivek,9921668254,vivek@gmail.com\n",
            "ankur, 8806807004,ankur@gmail.com\n",
            "pranav,987654321,pranav@gmail.com\n",
            "('rutuja', '43256', 'rutuja@gmail.com')\n",
            "vivek,9921668254,vivek@gmail.com\n",
            "ankur, 8806807004,ankur@gmail.com\n",
            "pranav,987654321,pranav@gmail.com('rutuja', '43256', 'rutuja@gmail.com')\n"
          ]
        }
      ]
    },
    {
      "cell_type": "code",
      "source": [
        "while True:\n",
        "    def show_contacts():\n",
        "      with open('contacts.txt', 'r') as file:\n",
        "        content = file.read()\n",
        "        print(content)\n",
        "    show_contacts()\n",
        "\n",
        "    action = input(\"Press 'a' - add contact, 'o' - open contact, 's' - search contact, 'q' - quit\")\n",
        "    if action == 'a':\n",
        "        def add_contact(content):\n",
        "            name=input('enter name')\n",
        "            number=input('enter number')\n",
        "            email=input('enter email id')\n",
        "            new_contact=name+number+email\n",
        "            print(new_contact)\n",
        "            content=content+'\\n'+new_contact\n",
        "            print(content)\n",
        "            with open('contacts.txt', 'w') as file:\n",
        "              content = file.write(content)\n",
        "              print(content)\n",
        "        add_contact(content)\n",
        "\n",
        "    elif action == 'o':\n",
        "        #name = input(\"Enter name of the contact you want to open. \")\n",
        "        def open_contact():\n",
        "          from os import name\n",
        "          a=input('search name for contact ')\n",
        "          for n in content:\n",
        "            print(n)\n",
        "            if n== a:\n",
        "              print(n)\n",
        "              break\n",
        "            else:\n",
        "              print('No match found!')\n",
        "              break\n",
        "\n",
        "        open_contact()\n",
        "\n",
        "    elif action == 'q':\n",
        "        print('END')\n",
        "        break\n",
        "\n",
        "    else:\n",
        "        print('incorrect choice')"
      ],
      "metadata": {
        "id": "v02XQ-VBLLzp"
      },
      "execution_count": null,
      "outputs": []
    },
    {
      "cell_type": "markdown",
      "metadata": {
        "id": "USdewYSVsk5Z"
      },
      "source": [
        "We really hope you had a wonderful time building this applications. This is how applications are developed in really life. You start with a set of basic functionalities and then you keep adding new features (like persistent storage & validation). As the application grows in size, you might encounter new problems to solve."
      ]
    }
  ],
  "metadata": {
    "kernelspec": {
      "display_name": "Python 3",
      "language": "python",
      "name": "python3"
    },
    "language_info": {
      "codemirror_mode": {
        "name": "ipython",
        "version": 3
      },
      "file_extension": ".py",
      "mimetype": "text/x-python",
      "name": "python",
      "nbconvert_exporter": "python",
      "pygments_lexer": "ipython3",
      "version": "3.7.4"
    },
    "toc": {
      "base_numbering": 1,
      "nav_menu": {},
      "number_sections": true,
      "sideBar": true,
      "skip_h1_title": false,
      "title_cell": "Table of Contents",
      "title_sidebar": "Contents",
      "toc_cell": false,
      "toc_position": {},
      "toc_section_display": true,
      "toc_window_display": false
    },
    "colab": {
      "provenance": [],
      "include_colab_link": true
    }
  },
  "nbformat": 4,
  "nbformat_minor": 0
}